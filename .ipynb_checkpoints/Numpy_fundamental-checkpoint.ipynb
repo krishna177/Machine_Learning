{
 "cells": [
  {
   "cell_type": "code",
   "execution_count": 2,
   "metadata": {},
   "outputs": [],
   "source": [
    "import numpy as np"
   ]
  },
  {
   "cell_type": "code",
   "execution_count": 4,
   "metadata": {},
   "outputs": [
    {
     "name": "stdout",
     "output_type": "stream",
     "text": [
      "[1 2 3]\n",
      "[[9.2 5.6 3.6]\n",
      " [1.2 3.6 6.9]]\n"
     ]
    }
   ],
   "source": [
    "a=np.array([1,2,3])\n",
    "b=np.array([[9.2,5.6,3.6],[1.2,3.6,6.9]])\n",
    "print(a)\n",
    "print(b)"
   ]
  },
  {
   "cell_type": "code",
   "execution_count": 5,
   "metadata": {},
   "outputs": [
    {
     "name": "stdout",
     "output_type": "stream",
     "text": [
      "1\n",
      "2\n"
     ]
    }
   ],
   "source": [
    "# get dimension \n",
    "print(a.ndim)\n",
    "print(b.ndim)"
   ]
  },
  {
   "cell_type": "code",
   "execution_count": 8,
   "metadata": {},
   "outputs": [
    {
     "name": "stdout",
     "output_type": "stream",
     "text": [
      "(3,)\n",
      "(2, 3)\n"
     ]
    }
   ],
   "source": [
    "# get shape\n",
    "print(a.shape)\n",
    "#one dimensional array is vector\n",
    "print(b.shape)"
   ]
  },
  {
   "cell_type": "code",
   "execution_count": 12,
   "metadata": {},
   "outputs": [
    {
     "name": "stdout",
     "output_type": "stream",
     "text": [
      "int32\n",
      "float64\n"
     ]
    }
   ],
   "source": [
    "# get type\n",
    "print(a.dtype)\n",
    "print(b.dtype)"
   ]
  },
  {
   "cell_type": "code",
   "execution_count": 20,
   "metadata": {},
   "outputs": [
    {
     "name": "stdout",
     "output_type": "stream",
     "text": [
      "[[ 2.5   56.3    2.5  ]\n",
      " [ 2.5    3.6    3.889]]\n",
      "[[ 2.5      56.3       2.5     ]\n",
      " [ 2.5       3.6       3.888888]]\n",
      "[[ 2.5      56.3       2.5     ]\n",
      " [ 2.5       3.6       3.888888]]\n"
     ]
    }
   ],
   "source": [
    "c=np.array([[2.5,56.3,2.5],[2.5,3.6,3.888888]],dtype='float16')\n",
    "print(c)\n",
    "d=np.array([[2.5,56.3,2.5],[2.5,3.6,3.888888]],dtype='float32')\n",
    "print(d)\n",
    "e=np.array([[2.5,56.3,2.5],[2.5,3.6,3.888888]])\n",
    "print(e)"
   ]
  },
  {
   "cell_type": "code",
   "execution_count": 21,
   "metadata": {},
   "outputs": [
    {
     "name": "stdout",
     "output_type": "stream",
     "text": [
      "size of single element in c= 2\n",
      "total size of c in bytes= 12\n",
      "size of single element in d= 4\n",
      "total size of d in bytes= 24\n",
      "size of single element in e= 8\n",
      "total size of e in bytes= 48\n"
     ]
    }
   ],
   "source": [
    "# Get size\n",
    "print(\"size of single element in c=\",c.itemsize)\n",
    "print(\"total size of c in bytes=\",c.nbytes)\n",
    "print(\"size of single element in d=\",d.itemsize)\n",
    "print(\"total size of d in bytes=\",d.nbytes)\n",
    "print(\"size of single element in e=\",e.itemsize)\n",
    "print(\"total size of e in bytes=\",e.nbytes)"
   ]
  },
  {
   "cell_type": "code",
   "execution_count": null,
   "metadata": {},
   "outputs": [],
   "source": [
    "s"
   ]
  }
 ],
 "metadata": {
  "kernelspec": {
   "display_name": "Python 3",
   "language": "python",
   "name": "python3"
  },
  "language_info": {
   "codemirror_mode": {
    "name": "ipython",
    "version": 3
   },
   "file_extension": ".py",
   "mimetype": "text/x-python",
   "name": "python",
   "nbconvert_exporter": "python",
   "pygments_lexer": "ipython3",
   "version": "3.7.4"
  }
 },
 "nbformat": 4,
 "nbformat_minor": 2
}
